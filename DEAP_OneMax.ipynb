{
  "nbformat": 4,
  "nbformat_minor": 0,
  "metadata": {
    "colab": {
      "name": "DEAP_OneMax.ipynb",
      "provenance": [],
      "authorship_tag": "ABX9TyMLsavM0WCby7/pUe9Z1M05",
      "include_colab_link": true
    },
    "kernelspec": {
      "name": "python3",
      "display_name": "Python 3"
    },
    "language_info": {
      "name": "python"
    }
  },
  "cells": [
    {
      "cell_type": "markdown",
      "metadata": {
        "id": "view-in-github",
        "colab_type": "text"
      },
      "source": [
        "<a href=\"https://colab.research.google.com/github/castudil/DEAP-OneMax/blob/main/DEAP_OneMax.ipynb\" target=\"_parent\"><img src=\"https://colab.research.google.com/assets/colab-badge.svg\" alt=\"Open In Colab\"/></a>"
      ]
    },
    {
      "cell_type": "markdown",
      "metadata": {
        "id": "Xs-ts8oP5wqC"
      },
      "source": [
        "Primero debemos instalar el framework DEAP que permite trabajar con algoritmos geneticos. DEAP es un acronimo que proviene del nombre Distributed Evolutionary Algorithms in Python."
      ]
    },
    {
      "cell_type": "code",
      "metadata": {
        "id": "DX2jTOoX5dIz"
      },
      "source": [
        "!pip install deap"
      ],
      "execution_count": null,
      "outputs": []
    },
    {
      "cell_type": "markdown",
      "metadata": {
        "id": "ocHh0U0L5vXF"
      },
      "source": [
        "Existen unos modulos de algoritmos geneticos pre programados.  debemos especificar en que consiste nuestro problema especifico, fitness, funcion de costo, como se compone el individuo, como se inicializa el individuo, etc. lo primero que haremos sera importar los modulos de deap que nos permitiran hacer esto."
      ]
    },
    {
      "cell_type": "code",
      "metadata": {
        "id": "kkSARsrd6mcd"
      },
      "source": [
        "import random\n",
        "\n",
        "from deap import base\n",
        "from deap import creator\n",
        "from deap import tools"
      ],
      "execution_count": null,
      "outputs": []
    },
    {
      "cell_type": "markdown",
      "metadata": {
        "id": "2FRTPc0r7Nde"
      },
      "source": [
        "El problema ONeMAX\n",
        "\n",
        "Este es el hola mundo del los algoritmos geneticos. Este problema es un ejemplo de juguete para aprender a ejecutar un GA simple.\n",
        "consite en una secuencia de bits (ceros o unos) y buscamos el individuo cuya suma de bits sea maxima. obviamente una secuencia de unos es la que dara la mayor suma, sin embargo el computador no lo sabe. queremos que lo encuentre, a traves de los operadores de geneticos.\n",
        "\n",
        "ejemplo:\n",
        "\n",
        "10010 -> la suma de los digitos es 2\n",
        "\n",
        "01110 -> la suma de los digitos es 3. Por lo tanto esta solucion es mejor que la anterior.\n",
        "\n",
        "11111 -> la suma es 5. para individuos de largo 5 (o sea 5 bits) esta es la solucion óptima. esta solucion es unica (solo hay una secuencia de bit que tiene la mejor solucion) y su costo es conocido (es la suma de los bits, que en este caso es 5).\n",
        "\n"
      ]
    },
    {
      "cell_type": "code",
      "metadata": {
        "id": "AP4JAdqW90Bk"
      },
      "source": [
        "creator.create(\"FitnessMax\", base.Fitness, weights=(1.0,))\n",
        "creator.create(\"Individual\", list, fitness=creator.FitnessMax)"
      ],
      "execution_count": null,
      "outputs": []
    },
    {
      "cell_type": "markdown",
      "metadata": {
        "id": "kg-roeEb91a1"
      },
      "source": [
        "El mecanismo create es utilizado por DEAP para configurar elementos del GA. FitnessMax sera nuestra funcion de fitness, que utiliza la funcion de deap preprgoramada llamada base.fitness. ademas le asignamos una variable llamada peso (weight)\n",
        "\n",
        "por otro lado Individual tiene el cromosoma de cada individuo. Es una lista en python que ademas se le asigna un fitness."
      ]
    },
    {
      "cell_type": "code",
      "metadata": {
        "id": "zTNIovIy-jP8"
      },
      "source": [
        "toolbox = base.Toolbox()"
      ],
      "execution_count": null,
      "outputs": []
    },
    {
      "cell_type": "markdown",
      "metadata": {
        "id": "UlP63XGw-n0n"
      },
      "source": [
        "Toolbox es una clase importante en DEAP, tiene pre programado muchos operadores geneticos como cruzamientos, seleccion y mutación."
      ]
    },
    {
      "cell_type": "code",
      "metadata": {
        "id": "oUIMF9YV-yDu"
      },
      "source": [
        "toolbox.register(\"attr_bool\", random.randint, 0, 1)"
      ],
      "execution_count": null,
      "outputs": []
    },
    {
      "cell_type": "markdown",
      "metadata": {
        "id": "KSWhc24i-4Ee"
      },
      "source": [
        "attr_bool define un atributo del individuo. a cada atributo se le llama \"gen\". en este caso cada gen es un bit y puede asumir valores 0 o 1. En este caso lo implementamos como un valor entero. la funcion random.randomint permite inicializar el valor del gen de manera aleatoria entre un valor 0 o un 1."
      ]
    }
  ]
}