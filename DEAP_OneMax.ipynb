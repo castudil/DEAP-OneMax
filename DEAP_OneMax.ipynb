{
  "nbformat": 4,
  "nbformat_minor": 0,
  "metadata": {
    "colab": {
      "name": "DEAP_OneMax.ipynb",
      "provenance": [],
      "authorship_tag": "ABX9TyMOn+pvrGoLDUBTEqj4LipM",
      "include_colab_link": true
    },
    "kernelspec": {
      "name": "python3",
      "display_name": "Python 3"
    },
    "language_info": {
      "name": "python"
    }
  },
  "cells": [
    {
      "cell_type": "markdown",
      "metadata": {
        "id": "view-in-github",
        "colab_type": "text"
      },
      "source": [
        "<a href=\"https://colab.research.google.com/github/castudil/DEAP-OneMax/blob/main/DEAP_OneMax.ipynb\" target=\"_parent\"><img src=\"https://colab.research.google.com/assets/colab-badge.svg\" alt=\"Open In Colab\"/></a>"
      ]
    },
    {
      "cell_type": "markdown",
      "metadata": {
        "id": "Xs-ts8oP5wqC"
      },
      "source": [
        "Primero debemos instalar el framework DEAP que permite trabajar con algoritmos geneticos. DEAP es un acronimo que proviene del nombre Distributed Evolutionary Algorithms in Python."
      ]
    },
    {
      "cell_type": "code",
      "metadata": {
        "colab": {
          "base_uri": "https://localhost:8080/"
        },
        "id": "DX2jTOoX5dIz",
        "outputId": "955a4cc6-7b55-4057-c1f5-71682cc2bf01"
      },
      "source": [
        "!pip install deap"
      ],
      "execution_count": 1,
      "outputs": [
        {
          "output_type": "stream",
          "text": [
            "Collecting deap\n",
            "\u001b[?25l  Downloading https://files.pythonhosted.org/packages/99/d1/803c7a387d8a7e6866160b1541307f88d534da4291572fb32f69d2548afb/deap-1.3.1-cp37-cp37m-manylinux2010_x86_64.whl (157kB)\n",
            "\r\u001b[K     |██                              | 10kB 14.9MB/s eta 0:00:01\r\u001b[K     |████▏                           | 20kB 20.2MB/s eta 0:00:01\r\u001b[K     |██████▏                         | 30kB 17.7MB/s eta 0:00:01\r\u001b[K     |████████▎                       | 40kB 15.2MB/s eta 0:00:01\r\u001b[K     |██████████▍                     | 51kB 7.9MB/s eta 0:00:01\r\u001b[K     |████████████▍                   | 61kB 7.6MB/s eta 0:00:01\r\u001b[K     |██████████████▌                 | 71kB 8.6MB/s eta 0:00:01\r\u001b[K     |████████████████▋               | 81kB 9.0MB/s eta 0:00:01\r\u001b[K     |██████████████████▋             | 92kB 8.1MB/s eta 0:00:01\r\u001b[K     |████████████████████▊           | 102kB 7.5MB/s eta 0:00:01\r\u001b[K     |██████████████████████▉         | 112kB 7.5MB/s eta 0:00:01\r\u001b[K     |████████████████████████▉       | 122kB 7.5MB/s eta 0:00:01\r\u001b[K     |███████████████████████████     | 133kB 7.5MB/s eta 0:00:01\r\u001b[K     |█████████████████████████████   | 143kB 7.5MB/s eta 0:00:01\r\u001b[K     |███████████████████████████████ | 153kB 7.5MB/s eta 0:00:01\r\u001b[K     |████████████████████████████████| 163kB 7.5MB/s \n",
            "\u001b[?25hRequirement already satisfied: numpy in /usr/local/lib/python3.7/dist-packages (from deap) (1.19.5)\n",
            "Installing collected packages: deap\n",
            "Successfully installed deap-1.3.1\n"
          ],
          "name": "stdout"
        }
      ]
    },
    {
      "cell_type": "markdown",
      "metadata": {
        "id": "ocHh0U0L5vXF"
      },
      "source": [
        "Existen unos modulos de algoritmos geneticos pre programados.  debemos especificar en que consiste nuestro problema especifico, fitness, funcion de costo, como se compone el individuo, como se inicializa el individuo, etc. lo primero que haremos sera importar los modulos de deap que nos permitiran hacer esto."
      ]
    },
    {
      "cell_type": "code",
      "metadata": {
        "id": "kkSARsrd6mcd"
      },
      "source": [
        "import random\n",
        "\n",
        "from deap import base\n",
        "from deap import creator\n",
        "from deap import tools"
      ],
      "execution_count": 13,
      "outputs": []
    },
    {
      "cell_type": "markdown",
      "metadata": {
        "id": "2FRTPc0r7Nde"
      },
      "source": [
        "El problema ONeMAX\n",
        "\n",
        "Este es el hola mundo del los algoritmos geneticos. Este problema es un ejemplo de juguete para aprender a ejecutar un GA simple.\n",
        "consite en una secuencia de bits (ceros o unos) y buscamos el individuo cuya suma de bits sea maxima. obviamente una secuencia de unos es la que dara la mayor suma, sin embargo el computador no lo sabe. queremos que lo encuentre, a traves de los operadores de geneticos.\n",
        "\n",
        "ejemplo:\n",
        "\n",
        "10010 -> la suma de los digitos es 2\n",
        "\n",
        "01110 -> la suma de los digitos es 3. Por lo tanto esta solucion es mejor que la anterior.\n",
        "\n",
        "11111 -> la suma es 5. para individuos de largo 5 (o sea 5 bits) esta es la solucion óptima. esta solucion es unica (solo hay una secuencia de bit que tiene la mejor solucion) y su costo es conocido (es la suma de los bits, que en este caso es 5).\n",
        "\n"
      ]
    },
    {
      "cell_type": "code",
      "metadata": {
        "colab": {
          "base_uri": "https://localhost:8080/"
        },
        "id": "AP4JAdqW90Bk",
        "outputId": "0814bf79-74c3-431c-89e3-a22283cad685"
      },
      "source": [
        "creator.create(\"FitnessMax\", base.Fitness, weights=(1.0,))\n",
        "creator.create(\"Individual\", list, fitness=creator.FitnessMax)"
      ],
      "execution_count": 11,
      "outputs": [
        {
          "output_type": "stream",
          "text": [
            "/usr/local/lib/python3.7/dist-packages/deap/creator.py:141: RuntimeWarning: A class named 'FitnessMax' has already been created and it will be overwritten. Consider deleting previous creation of that class or rename it.\n",
            "  RuntimeWarning)\n",
            "/usr/local/lib/python3.7/dist-packages/deap/creator.py:141: RuntimeWarning: A class named 'Individual' has already been created and it will be overwritten. Consider deleting previous creation of that class or rename it.\n",
            "  RuntimeWarning)\n"
          ],
          "name": "stderr"
        }
      ]
    },
    {
      "cell_type": "markdown",
      "metadata": {
        "id": "kg-roeEb91a1"
      },
      "source": [
        "El mecanismo create es utilizado por DEAP para configurar elementos del GA. FitnessMax sera nuestra funcion de fitness, que utiliza la funcion de deap preprgoramada llamada base.fitness. ademas le asignamos una variable llamada peso (weight)\n",
        "\n",
        "por otro lado Individual tiene el cromosoma de cada individuo. Es una lista en python que ademas se le asigna un fitness."
      ]
    },
    {
      "cell_type": "code",
      "metadata": {
        "id": "zTNIovIy-jP8"
      },
      "source": [
        "toolbox = base.Toolbox()"
      ],
      "execution_count": 15,
      "outputs": []
    },
    {
      "cell_type": "markdown",
      "metadata": {
        "id": "UlP63XGw-n0n"
      },
      "source": [
        "Toolbox es una clase importante en DEAP, tiene pre programado muchos operadores geneticos como cruzamientos, seleccion y mutación."
      ]
    },
    {
      "cell_type": "code",
      "metadata": {
        "id": "oUIMF9YV-yDu"
      },
      "source": [
        "toolbox.register(\"cero_o_uno\", random.randint, 0, 1)"
      ],
      "execution_count": 16,
      "outputs": []
    },
    {
      "cell_type": "markdown",
      "metadata": {
        "id": "KSWhc24i-4Ee"
      },
      "source": [
        "cero_o_uno define un atributo del individuo. Es una especificacion del metodo randint. en el GA a cada atributo se le llama \"gen\". en este caso cada gen es un bit y puede asumir valores 0 o 1. En este caso lo implementamos como un valor entero. la funcion random.randomint permite inicializar el valor del gen de manera aleatoria entre un valor 0 o un 1."
      ]
    },
    {
      "cell_type": "code",
      "metadata": {
        "id": "-gdNXcULBNnX"
      },
      "source": [
        "# Structure initializers\n",
        "#                         define 'individual' to be an individual\n",
        "#                         consisting of 100 'attr_bool' elements ('genes')\n",
        "toolbox.register(\"individual\", tools.initRepeat, creator.Individual, \n",
        "    toolbox.cero_o_uno, 100)"
      ],
      "execution_count": 17,
      "outputs": []
    },
    {
      "cell_type": "markdown",
      "metadata": {
        "id": "hrXK0Mv4Rc81"
      },
      "source": [
        "este segemento de codigo inicializa a los individuos de la poblacion. crea una funcion llamada individual que genera un individuo de largo 100"
      ]
    },
    {
      "cell_type": "code",
      "metadata": {
        "id": "TRxYAWEtSARH"
      },
      "source": [
        "# define the population to be a list of individuals\n",
        "toolbox.register(\"population\", tools.initRepeat, list, toolbox.individual)"
      ],
      "execution_count": 18,
      "outputs": []
    },
    {
      "cell_type": "markdown",
      "metadata": {
        "id": "MwkEBa09SDw1"
      },
      "source": [
        "ahora se registra una funcion llamada population que genera una lista de individuos. En este punto aun no se especifica cuantos individuos habra en una generacion. ese numero se indica mas adelante en el codigo"
      ]
    },
    {
      "cell_type": "code",
      "metadata": {
        "id": "uBj3iWusSSGC"
      },
      "source": [
        "# the goal ('fitness') function to be maximized\n",
        "def evalOneMax(individual):\n",
        "    return sum(individual),"
      ],
      "execution_count": 19,
      "outputs": []
    },
    {
      "cell_type": "markdown",
      "metadata": {
        "id": "NLIzarudSihy"
      },
      "source": [
        "para facilitar el calculo del fitness se define una funcion. esta es la funcion de costo que enterminaologia DEAP se conoce como `evaluacion`."
      ]
    },
    {
      "cell_type": "code",
      "metadata": {
        "id": "N8k_B4zqU7R5"
      },
      "source": [
        "#----------\n",
        "# Operator registration\n",
        "#----------\n",
        "# register the goal / fitness function\n",
        "toolbox.register(\"evaluate\", evalOneMax)"
      ],
      "execution_count": null,
      "outputs": []
    },
    {
      "cell_type": "markdown",
      "metadata": {
        "id": "5F6EGOWBU_QY"
      },
      "source": [
        "se registra la funcion evaluate que internamente llama a la funcion en python evalOneMax que acabamos de definir"
      ]
    },
    {
      "cell_type": "code",
      "metadata": {
        "id": "8E_8ANuPVLEV"
      },
      "source": [
        "\n",
        "# register the crossover operator\n",
        "toolbox.register(\"mate\", tools.cxTwoPoint)"
      ],
      "execution_count": null,
      "outputs": []
    },
    {
      "cell_type": "markdown",
      "metadata": {
        "id": "J8OqOuv7VNMA"
      },
      "source": [
        "mate significa cruzamiento. en este caso invocamos una funcion pre definida que se llama cxTwoPoint Crossover que fue explicada en clases. hay mucha informacion sobre ese operador de cruzamiento. solo hay que buscar en google o revisar la documentacion de DEAP\n",
        "\n",
        "\n",
        "`def tools.cxTwoPoint(ind1, ind2)`\n",
        "Executes a two-point crossover on the input sequence individuals. The two individuals are modified in place and both keep their original length.\n",
        ":param ind1: The first individual participating in the crossover.\n",
        ":param ind2: The second individual participating in the crossover.\n",
        ":returns: A tuple of two individuals.\n",
        "This function uses the ~random.randint function from the Python base random module."
      ]
    },
    {
      "cell_type": "code",
      "metadata": {
        "id": "uCbHSlYBV3er"
      },
      "source": [
        "# register a mutation operator with a probability to\n",
        "# flip each attribute/gene of 0.05\n",
        "toolbox.register(\"mutate\", tools.mutFlipBit, indpb=0.05)"
      ],
      "execution_count": null,
      "outputs": []
    },
    {
      "cell_type": "markdown",
      "metadata": {
        "id": "l4MonbhtV4Im"
      },
      "source": [
        "registra la funcion mutate que invoca al operador predefinido mutFlipBit que simplemente cambia un bit de valor."
      ]
    },
    {
      "cell_type": "code",
      "metadata": {
        "id": "75OYBoufWDPN"
      },
      "source": [
        "# operator for selecting individuals for breeding the next\n",
        "# generation: each individual of the current generation\n",
        "# is replaced by the 'fittest' (best) of three individuals\n",
        "# drawn randomly from the current generation.\n",
        "toolbox.register(\"select\", tools.selTournament, tournsize=3)\n"
      ],
      "execution_count": null,
      "outputs": []
    },
    {
      "cell_type": "markdown",
      "metadata": {
        "id": "WqcpBW2ZWEeS"
      },
      "source": [
        "se define la funcion select que indica el operador de seleccion. en este caso se usa seleccion por torneo."
      ]
    },
    {
      "cell_type": "markdown",
      "metadata": {
        "id": "bx9dKUb4WQ5N"
      },
      "source": [
        "A continuacion el loop principal del algoritmo"
      ]
    },
    {
      "cell_type": "code",
      "metadata": {
        "id": "tsiO4IT_UVU3"
      },
      "source": [
        "\n",
        "#----------\n",
        "\n",
        "def main():\n",
        "\n",
        "  #semilla para la generacion seudo aleatoria\n",
        "    random.seed(64)\n",
        "\n",
        "    # create an initial population of 300 individuals (where\n",
        "    # each individual is a list of integers)\n",
        "    pop = toolbox.population(n=300)\n",
        "\n",
        "    # CXPB  is the probability with which two individuals\n",
        "    #       are crossed\n",
        "    #\n",
        "    # MUTPB is the probability for mutating an individual\n",
        "    CXPB, MUTPB = 0.5, 0.2\n",
        "    \n",
        "    print(\"Start of evolution\")\n",
        "    \n",
        "    # Evaluate the entire population\n",
        "    fitnesses = list(map(toolbox.evaluate, pop))\n",
        "    for ind, fit in zip(pop, fitnesses):\n",
        "        ind.fitness.values = fit\n",
        "    \n",
        "    print(\"  Evaluated %i individuals\" % len(pop))\n",
        "\n",
        "    # Extracting all the fitnesses of \n",
        "    fits = [ind.fitness.values[0] for ind in pop]\n",
        "\n",
        "    # Variable keeping track of the number of generations\n",
        "    g = 0\n",
        "    \n",
        "    # Begin the evolution\n",
        "    while max(fits) < 100 and g < 1000:\n",
        "        # A new generation\n",
        "        g = g + 1\n",
        "        print(\"-- Generation %i --\" % g)\n",
        "        \n",
        "        # Select the next generation individuals\n",
        "        offspring = toolbox.select(pop, len(pop))\n",
        "        # Clone the selected individuals\n",
        "        offspring = list(map(toolbox.clone, offspring))\n",
        "    \n",
        "        # Apply crossover and mutation on the offspring\n",
        "        for child1, child2 in zip(offspring[::2], offspring[1::2]):\n",
        "\n",
        "            # cross two individuals with probability CXPB\n",
        "            if random.random() < CXPB:\n",
        "                toolbox.mate(child1, child2)\n",
        "\n",
        "                # fitness values of the children\n",
        "                # must be recalculated later\n",
        "                del child1.fitness.values\n",
        "                del child2.fitness.values\n",
        "\n",
        "        for mutant in offspring:\n",
        "\n",
        "            # mutate an individual with probability MUTPB\n",
        "            if random.random() < MUTPB:\n",
        "                toolbox.mutate(mutant)\n",
        "                del mutant.fitness.values\n",
        "    \n",
        "        # Evaluate the individuals with an invalid fitness\n",
        "        invalid_ind = [ind for ind in offspring if not ind.fitness.valid]\n",
        "        fitnesses = map(toolbox.evaluate, invalid_ind)\n",
        "        for ind, fit in zip(invalid_ind, fitnesses):\n",
        "            ind.fitness.values = fit\n",
        "        \n",
        "        print(\"  Evaluated %i individuals\" % len(invalid_ind))\n",
        "        \n",
        "        # The population is entirely replaced by the offspring\n",
        "        pop[:] = offspring\n",
        "        \n",
        "        # Gather all the fitnesses in one list and print the stats\n",
        "        fits = [ind.fitness.values[0] for ind in pop]\n",
        "        \n",
        "        length = len(pop)\n",
        "        mean = sum(fits) / length\n",
        "        sum2 = sum(x*x for x in fits)\n",
        "        std = abs(sum2 / length - mean**2)**0.5\n",
        "        \n",
        "        print(\"  Min %s\" % min(fits))\n",
        "        print(\"  Max %s\" % max(fits))\n",
        "        print(\"  Avg %s\" % mean)\n",
        "        print(\"  Std %s\" % std)\n",
        "    \n",
        "    print(\"-- End of (successful) evolution --\")\n",
        "    \n",
        "    best_ind = tools.selBest(pop, 1)[0]\n",
        "    print(\"Best individual is %s, %s\" % (best_ind, best_ind.fitness.values))\n",
        "\n",
        "if __name__ == \"__main__\":\n",
        "    main()"
      ],
      "execution_count": null,
      "outputs": []
    },
    {
      "cell_type": "markdown",
      "metadata": {
        "id": "QMXsntPwYlbE"
      },
      "source": [
        "# New Section"
      ]
    }
  ]
}